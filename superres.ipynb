{
  "nbformat": 4,
  "nbformat_minor": 0,
  "metadata": {
    "colab": {
      "name": "superres.ipynb",
      "version": "0.3.2",
      "provenance": [],
      "collapsed_sections": [],
      "include_colab_link": true
    },
    "kernelspec": {
      "name": "python3",
      "display_name": "Python 3"
    },
    "accelerator": "GPU"
  },
  "cells": [
    {
      "cell_type": "markdown",
      "metadata": {
        "id": "view-in-github",
        "colab_type": "text"
      },
      "source": [
        "<a href=\"https://colab.research.google.com/github/dibya001/superres/blob/master/superres.ipynb\" target=\"_parent\"><img src=\"https://colab.research.google.com/assets/colab-badge.svg\" alt=\"Open In Colab\"/></a>"
      ]
    },
    {
      "cell_type": "code",
      "metadata": {
        "id": "nlzdQu7p6noZ",
        "colab_type": "code",
        "colab": {}
      },
      "source": [
        "!pip install pillow>=5.0.0\n"
      ],
      "execution_count": 0,
      "outputs": []
    },
    {
      "cell_type": "code",
      "metadata": {
        "id": "69Lr_8Fy7Sxw",
        "colab_type": "code",
        "colab": {}
      },
      "source": [
        "!pip install tensorflow>=1.13.1"
      ],
      "execution_count": 0,
      "outputs": []
    },
    {
      "cell_type": "code",
      "metadata": {
        "id": "_6OMQ11MOg-9",
        "colab_type": "code",
        "colab": {}
      },
      "source": [
        ""
      ],
      "execution_count": 0,
      "outputs": []
    },
    {
      "cell_type": "code",
      "metadata": {
        "id": "XKTJNu9g7V2e",
        "colab_type": "code",
        "colab": {}
      },
      "source": [
        "!pip install numpy>=1.16.0"
      ],
      "execution_count": 0,
      "outputs": []
    },
    {
      "cell_type": "code",
      "metadata": {
        "id": "jAbCwTUj7Zk0",
        "colab_type": "code",
        "colab": {}
      },
      "source": [
        "!pip install wandb>=0.8.0"
      ],
      "execution_count": 0,
      "outputs": []
    },
    {
      "cell_type": "code",
      "metadata": {
        "id": "21tVfgPr7ePW",
        "colab_type": "code",
        "outputId": "b65ee697-f4ca-41f4-c7e0-c0530f1472da",
        "colab": {
          "base_uri": "https://localhost:8080/",
          "height": 85
        }
      },
      "source": [
        "!wandb login"
      ],
      "execution_count": 0,
      "outputs": [
        {
          "output_type": "stream",
          "text": [
            "You can find your API keys in your browser here: https://app.wandb.ai/authorize\n",
            "Paste an API key from your profile: 75aaa66c376d67516bcd56673b0eaa4d27cce6f8\n",
            "Appending key for api.wandb.ai to your netrc file: /root/.netrc\n",
            "\u001b[32mSuccessfully logged in to Weights & Biases!\u001b[0m\n"
          ],
          "name": "stdout"
        }
      ]
    },
    {
      "cell_type": "code",
      "metadata": {
        "id": "YDBEPaaa6qQz",
        "colab_type": "code",
        "outputId": "4c579c5b-bb99-4e89-bf2c-a603e3125f53",
        "colab": {
          "base_uri": "https://localhost:8080/",
          "height": 34
        }
      },
      "source": [
        "import random\n",
        "import glob\n",
        "import subprocess\n",
        "import os\n",
        "from PIL import Image\n",
        "import numpy as np\n",
        "from tensorflow.keras.models import Sequential\n",
        "from tensorflow.keras import layers\n",
        "from tensorflow.keras import backend as K\n",
        "from tensorflow.keras.callbacks import Callback\n",
        "import wandb\n",
        "from wandb.keras import WandbCallback\n",
        "\n",
        "run = wandb.init(project='superres')\n",
        "config = run.config\n"
      ],
      "execution_count": 0,
      "outputs": [
        {
          "output_type": "display_data",
          "data": {
            "text/html": [
              "\n",
              "        Notebook configured with <a href=\"https://wandb.com\" target=\"_blank\">W&B</a>. You can <a href=\"https://app.wandb.ai/dibya/superres/runs/yi6iqkox\" target=\"_blank\">open</a> the run page, or call <code>%%wandb</code>\n",
              "        in a cell containing your training loop to display live results.  Learn more in our <a href=\"https://docs.wandb.com/docs/integrations/jupyter.html\" target=\"_blank\">docs</a>.\n",
              "    "
            ],
            "text/plain": [
              "<IPython.core.display.HTML object>"
            ]
          },
          "metadata": {
            "tags": []
          }
        }
      ]
    },
    {
      "cell_type": "code",
      "metadata": {
        "id": "mBfFVgPF7wcX",
        "colab_type": "code",
        "colab": {}
      },
      "source": [
        "config.num_epochs = 20\n",
        "config.batch_size = 30\n",
        "config.input_height = 32\n",
        "config.input_width = 32\n",
        "config.output_height = 256\n",
        "config.output_width = 256\n",
        "\n",
        "val_dir = 'data/test'\n",
        "train_dir = 'data/train'\n",
        "\n",
        "# automatically get the data if it doesn't exist\n",
        "if not os.path.exists(\"data\"):\n",
        "    print(\"Downloading flower dataset...\")\n",
        "    subprocess.check_output(\n",
        "        \"mkdir data && curl https://storage.googleapis.com/wandb/flower-enhance.tar.gz | tar xz -C data\", shell=True)\n",
        "\n",
        "config.steps_per_epoch = len(\n",
        "    glob.glob(train_dir + \"/*-in.jpg\")) // config.batch_size\n",
        "config.val_steps_per_epoch = len(\n",
        "    glob.glob(val_dir + \"/*-in.jpg\")) // config.batch_size\n",
        "\n",
        "\n",
        "def image_generator(batch_size, img_dir):\n",
        "    \"\"\"A generator that returns small images and large images.  DO NOT ALTER the validation set\"\"\"\n",
        "    input_filenames = glob.glob(img_dir + \"/*-in.jpg\")\n",
        "    counter = 0\n",
        "    random.shuffle(input_filenames)\n",
        "    while True:\n",
        "        small_images = np.zeros(\n",
        "            (batch_size, config.input_width, config.input_height, 3))\n",
        "        large_images = np.zeros(\n",
        "            (batch_size, config.output_width, config.output_height, 3))\n",
        "        if counter+batch_size >= len(input_filenames):\n",
        "            counter = 0\n",
        "        for i in range(batch_size):\n",
        "            img = input_filenames[counter + i]\n",
        "            small_images[i] = np.array(Image.open(img)) / 255.0\n",
        "            large_images[i] = np.array(\n",
        "                Image.open(img.replace(\"-in.jpg\", \"-out.jpg\"))) / 255.0\n",
        "        yield (small_images, large_images)\n",
        "        counter += batch_size\n"
      ],
      "execution_count": 0,
      "outputs": []
    },
    {
      "cell_type": "code",
      "metadata": {
        "id": "5-uDxxQO71pR",
        "colab_type": "code",
        "colab": {}
      },
      "source": [
        "def perceptual_distance(y_true, y_pred):\n",
        "    \"\"\"Calculate perceptual distance, DO NOT ALTER\"\"\"\n",
        "    y_true *= 255\n",
        "    y_pred *= 255\n",
        "    rmean = (y_true[:, :, :, 0] + y_pred[:, :, :, 0]) / 2\n",
        "    r = y_true[:, :, :, 0] - y_pred[:, :, :, 0]\n",
        "    g = y_true[:, :, :, 1] - y_pred[:, :, :, 1]\n",
        "    b = y_true[:, :, :, 2] - y_pred[:, :, :, 2]\n",
        "\n",
        "    return K.mean(K.sqrt((((512+rmean)*r*r)/256) + 4*g*g + (((767-rmean)*b*b)/256)))\n"
      ],
      "execution_count": 0,
      "outputs": []
    },
    {
      "cell_type": "code",
      "metadata": {
        "id": "iPq8Pkss74Nf",
        "colab_type": "code",
        "colab": {}
      },
      "source": [
        "val_generator = image_generator(config.batch_size, val_dir)\n",
        "in_sample_images, out_sample_images = next(val_generator)\n"
      ],
      "execution_count": 0,
      "outputs": []
    },
    {
      "cell_type": "code",
      "metadata": {
        "id": "SOi-zEN176qJ",
        "colab_type": "code",
        "colab": {}
      },
      "source": [
        "class ImageLogger(Callback):\n",
        "    def on_epoch_end(self, epoch, logs):\n",
        "        preds = self.model.predict(in_sample_images)\n",
        "        in_resized = []\n",
        "        for arr in in_sample_images:\n",
        "            # Simple upsampling\n",
        "            in_resized.append(arr.repeat(8, axis=0).repeat(8, axis=1))\n",
        "        wandb.log({\n",
        "            \"examples\": [wandb.Image(np.concatenate([in_resized[i] * 255, o * 255, out_sample_images[i] * 255], axis=1)) for i, o in enumerate(preds)]\n",
        "        }, commit=False)\n"
      ],
      "execution_count": 0,
      "outputs": []
    },
    {
      "cell_type": "code",
      "metadata": {
        "id": "9pJUYmb_78th",
        "colab_type": "code",
        "outputId": "1e1fc548-1e24-40db-a3e8-3bd39cd41d99",
        "colab": {
          "base_uri": "https://localhost:8080/",
          "height": 105
        }
      },
      "source": [
        "model = Sequential()\n",
        "model.add(layers.Conv2D(128, (5, 5), activation='relu', padding='same',\n",
        "                        input_shape=(config.input_width, config.input_height, 3)))\n",
        "model.add(layers.Conv2D(64, (5, 5), activation='relu', padding='same'))\n",
        "model.add(layers.Conv2DTranspose(64, (5,5), strides = (2,2), padding = 'same', use_bias = False))\n",
        "model.add(layers.Conv2D(32, (5, 5), activation='relu', padding='same'))\n",
        "model.add(layers.Conv2DTranspose(32, (5,5), strides = (2,2), padding = 'same', use_bias = False))\n",
        "model.add(layers.Conv2D(16, (3, 3), activation='relu', padding='same'))\n",
        "model.add(layers.Conv2DTranspose(16, (5,5), strides = (2,2), padding = 'same', use_bias = False))\n",
        "model.add(layers.Conv2D(3, (3, 3), activation='relu', padding='same'))\n"
      ],
      "execution_count": 0,
      "outputs": [
        {
          "output_type": "stream",
          "text": [
            "WARNING: Logging before flag parsing goes to stderr.\n",
            "W0626 08:21:11.951749 139646910982016 deprecation.py:506] From /usr/local/lib/python3.6/dist-packages/tensorflow/python/ops/init_ops.py:1251: calling VarianceScaling.__init__ (from tensorflow.python.ops.init_ops) with dtype is deprecated and will be removed in a future version.\n",
            "Instructions for updating:\n",
            "Call initializer instance with the dtype argument instead of passing it to the constructor\n"
          ],
          "name": "stderr"
        }
      ]
    },
    {
      "cell_type": "code",
      "metadata": {
        "id": "G4CLD7LI7_K1",
        "colab_type": "code",
        "colab": {}
      },
      "source": [
        "# DONT ALTER metrics=[perceptual_distance]\n",
        "model.compile(optimizer='adam', loss='mse',\n",
        "              metrics=[perceptual_distance])"
      ],
      "execution_count": 0,
      "outputs": []
    },
    {
      "cell_type": "code",
      "metadata": {
        "id": "pciLedPw8BS8",
        "colab_type": "code",
        "outputId": "5e386cc7-9097-4de6-fd6a-307002ae0ff7",
        "colab": {
          "base_uri": "https://localhost:8080/",
          "height": 714
        }
      },
      "source": [
        "model.fit_generator(image_generator(config.batch_size, train_dir),\n",
        "                    steps_per_epoch=config.steps_per_epoch,\n",
        "                    epochs=config.num_epochs, callbacks=[\n",
        "                        ImageLogger(), WandbCallback()],\n",
        "                    validation_steps=config.val_steps_per_epoch,\n",
        "                    validation_data=val_generator)\n"
      ],
      "execution_count": 13,
      "outputs": [
        {
          "output_type": "stream",
          "text": [
            "Epoch 1/20\n",
            "166/166 [==============================] - 47s 281ms/step - loss: 0.0776 - perceptual_distance: 172.4713 - val_loss: 0.0661 - val_perceptual_distance: 155.4858\n",
            "Epoch 2/20\n",
            "166/166 [==============================] - 43s 262ms/step - loss: 0.0303 - perceptual_distance: 96.0422 - val_loss: 0.0156 - val_perceptual_distance: 68.0878\n",
            "Epoch 3/20\n",
            "166/166 [==============================] - 44s 263ms/step - loss: 0.0152 - perceptual_distance: 66.3686 - val_loss: 0.0151 - val_perceptual_distance: 66.0877\n",
            "Epoch 4/20\n",
            "166/166 [==============================] - 44s 264ms/step - loss: 0.0153 - perceptual_distance: 67.2388 - val_loss: 0.0150 - val_perceptual_distance: 65.9742\n",
            "Epoch 5/20\n",
            "166/166 [==============================] - 44s 265ms/step - loss: 0.0146 - perceptual_distance: 63.8974 - val_loss: 0.0147 - val_perceptual_distance: 64.2451\n",
            "Epoch 6/20\n",
            "166/166 [==============================] - 44s 266ms/step - loss: 0.0146 - perceptual_distance: 64.1092 - val_loss: 0.0147 - val_perceptual_distance: 64.7501\n",
            "Epoch 7/20\n",
            "166/166 [==============================] - 44s 266ms/step - loss: 0.0145 - perceptual_distance: 63.9314 - val_loss: 0.0145 - val_perceptual_distance: 63.9027\n",
            "Epoch 8/20\n",
            "166/166 [==============================] - 44s 263ms/step - loss: 0.0153 - perceptual_distance: 67.2660 - val_loss: 0.0146 - val_perceptual_distance: 64.0061\n",
            "Epoch 9/20\n",
            "166/166 [==============================] - 44s 263ms/step - loss: 0.0143 - perceptual_distance: 62.5876 - val_loss: 0.0144 - val_perceptual_distance: 63.2277\n",
            "Epoch 10/20\n",
            "166/166 [==============================] - 44s 263ms/step - loss: 0.0143 - perceptual_distance: 62.8630 - val_loss: 0.0143 - val_perceptual_distance: 62.7298\n",
            "Epoch 11/20\n",
            "166/166 [==============================] - 44s 262ms/step - loss: 0.0142 - perceptual_distance: 62.3777 - val_loss: 0.0143 - val_perceptual_distance: 62.5204\n",
            "Epoch 12/20\n",
            "166/166 [==============================] - 43s 260ms/step - loss: 0.0147 - perceptual_distance: 64.8326 - val_loss: 0.0144 - val_perceptual_distance: 63.6990\n",
            "Epoch 13/20\n",
            "166/166 [==============================] - 44s 263ms/step - loss: 0.0141 - perceptual_distance: 62.0034 - val_loss: 0.0142 - val_perceptual_distance: 62.4777\n",
            "Epoch 14/20\n",
            "166/166 [==============================] - 44s 263ms/step - loss: 0.0141 - perceptual_distance: 61.8844 - val_loss: 0.0142 - val_perceptual_distance: 62.0937\n",
            "Epoch 15/20\n",
            "166/166 [==============================] - 44s 264ms/step - loss: 0.0143 - perceptual_distance: 62.8976 - val_loss: 0.0142 - val_perceptual_distance: 62.3196\n",
            "Epoch 16/20\n",
            "166/166 [==============================] - 44s 263ms/step - loss: 0.0140 - perceptual_distance: 61.5504 - val_loss: 0.0141 - val_perceptual_distance: 61.8684\n",
            "Epoch 17/20\n",
            "166/166 [==============================] - 44s 263ms/step - loss: 0.0140 - perceptual_distance: 61.7721 - val_loss: 0.0141 - val_perceptual_distance: 61.7732\n",
            "Epoch 18/20\n",
            "166/166 [==============================] - 44s 262ms/step - loss: 0.0140 - perceptual_distance: 61.5495 - val_loss: 0.0141 - val_perceptual_distance: 61.7700\n",
            "Epoch 19/20\n",
            "166/166 [==============================] - 43s 262ms/step - loss: 0.0139 - perceptual_distance: 61.5146 - val_loss: 0.0141 - val_perceptual_distance: 61.6605\n",
            "Epoch 20/20\n",
            "166/166 [==============================] - 44s 263ms/step - loss: 0.0140 - perceptual_distance: 62.0239 - val_loss: 0.0141 - val_perceptual_distance: 61.8710\n"
          ],
          "name": "stdout"
        },
        {
          "output_type": "execute_result",
          "data": {
            "text/plain": [
              "<tensorflow.python.keras.callbacks.History at 0x7f0200a757b8>"
            ]
          },
          "metadata": {
            "tags": []
          },
          "execution_count": 13
        }
      ]
    },
    {
      "cell_type": "code",
      "metadata": {
        "id": "GGUmNaUA8rdZ",
        "colab_type": "code",
        "colab": {
          "base_uri": "https://localhost:8080/",
          "height": 425
        },
        "outputId": "029c8b3f-20bc-43b5-aefa-8fbfe5bb5ab4"
      },
      "source": [
        "model.summary()"
      ],
      "execution_count": 14,
      "outputs": [
        {
          "output_type": "stream",
          "text": [
            "Model: \"sequential\"\n",
            "_________________________________________________________________\n",
            "Layer (type)                 Output Shape              Param #   \n",
            "=================================================================\n",
            "conv2d (Conv2D)              (None, 32, 32, 128)       9728      \n",
            "_________________________________________________________________\n",
            "conv2d_1 (Conv2D)            (None, 32, 32, 64)        204864    \n",
            "_________________________________________________________________\n",
            "conv2d_transpose (Conv2DTran (None, 64, 64, 64)        102400    \n",
            "_________________________________________________________________\n",
            "conv2d_2 (Conv2D)            (None, 64, 64, 32)        51232     \n",
            "_________________________________________________________________\n",
            "conv2d_transpose_1 (Conv2DTr (None, 128, 128, 32)      25600     \n",
            "_________________________________________________________________\n",
            "conv2d_3 (Conv2D)            (None, 128, 128, 16)      4624      \n",
            "_________________________________________________________________\n",
            "conv2d_transpose_2 (Conv2DTr (None, 256, 256, 16)      6400      \n",
            "_________________________________________________________________\n",
            "conv2d_4 (Conv2D)            (None, 256, 256, 3)       435       \n",
            "=================================================================\n",
            "Total params: 405,283\n",
            "Trainable params: 405,283\n",
            "Non-trainable params: 0\n",
            "_________________________________________________________________\n"
          ],
          "name": "stdout"
        }
      ]
    },
    {
      "cell_type": "code",
      "metadata": {
        "id": "rzaF_F1aMQ1g",
        "colab_type": "code",
        "colab": {}
      },
      "source": [
        ""
      ],
      "execution_count": 0,
      "outputs": []
    }
  ]
}